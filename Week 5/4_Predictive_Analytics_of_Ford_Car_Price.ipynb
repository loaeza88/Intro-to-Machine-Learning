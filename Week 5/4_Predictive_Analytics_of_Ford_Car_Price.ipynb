{
  "nbformat": 4,
  "nbformat_minor": 0,
  "metadata": {
    "colab": {
      "provenance": []
    },
    "kernelspec": {
      "name": "python3",
      "display_name": "Python 3"
    },
    "language_info": {
      "name": "python"
    }
  },
  "cells": [
    {
      "cell_type": "markdown",
      "source": [
        "LOAEZA SEPTAVIAL 1103204003"
      ],
      "metadata": {
        "id": "RUYgTpieEyHM"
      }
    },
    {
      "cell_type": "markdown",
      "source": [
        "#Prediksi Analitik Penjualan Rumah di King County, Washington State, USA\n",
        "Dataset ini berisi data riwayat penjualan rumah di King Country, Washington State, USA, pada bulan Mei 2014 hingga Mei 2015."
      ],
      "metadata": {
        "id": "S023kdQ7JNXe"
      }
    },
    {
      "cell_type": "markdown",
      "source": [
        "**Impor *Library***"
      ],
      "metadata": {
        "id": "3ROu6HpTJSYO"
      }
    },
    {
      "cell_type": "markdown",
      "source": [
        "*Library* numpy digunakan untuk memproses larik atau array.\n",
        "\n",
        "*Library* matplotlib digunakan membuat visualisasi data dalam dua dimensi.\n",
        "\n",
        "*Library* seaborn dibangun di atas *library* matplotlib, digunakan untuk membuat visualisasi data.\n",
        "\n",
        "*Library* pandas digunakan untuk menganalisis dan memanipulasi data."
      ],
      "metadata": {
        "id": "9i-Q5U3WJU69"
      }
    },
    {
      "cell_type": "code",
      "execution_count": 1,
      "metadata": {
        "id": "xXFWk0WWJEwu"
      },
      "outputs": [],
      "source": [
        "import numpy as np\n",
        "import matplotlib.pyplot as plt\n",
        "import seaborn as sns\n",
        "import pandas as pd\n",
        "%matplotlib inline\n",
        "\n",
        "from sklearn.model_selection import train_test_split\n",
        "from sklearn.preprocessing import StandardScaler\n",
        "from sklearn.metrics import mean_squared_error\n",
        "from sklearn.neighbors import KNeighborsRegressor\n",
        "from sklearn.ensemble import RandomForestRegressor\n",
        "from sklearn.tree import DecisionTreeRegressor"
      ]
    },
    {
      "cell_type": "markdown",
      "source": [
        "# DATA UNDERSTANDING DAN DATA PREPARATION"
      ],
      "metadata": {
        "id": "a7XBOL6Mbz5i"
      }
    },
    {
      "cell_type": "markdown",
      "source": [
        "**Memuat Dataset (Data Loading)**\n",
        "\n",
        "Memuat dataset dengan nama file 'kc_house_data.csv' dengan format file csv (comma separated value)"
      ],
      "metadata": {
        "id": "AhtiN_JGKSQD"
      }
    },
    {
      "cell_type": "code",
      "source": [
        "house = pd.read_csv('/content/ford.csv')"
      ],
      "metadata": {
        "id": "Sh2QgJThKREd"
      },
      "execution_count": 2,
      "outputs": []
    },
    {
      "cell_type": "markdown",
      "source": [
        "**Menampilkan Dataframe**"
      ],
      "metadata": {
        "id": "sVyHGXMDKsuG"
      }
    },
    {
      "cell_type": "code",
      "source": [
        "house"
      ],
      "metadata": {
        "colab": {
          "base_uri": "https://localhost:8080/",
          "height": 424
        },
        "id": "PIl4U17jKuaa",
        "outputId": "4a39aed9-b42f-4fbf-efe7-2c89723ff2b8"
      },
      "execution_count": 3,
      "outputs": [
        {
          "output_type": "execute_result",
          "data": {
            "text/plain": [
              "         model  year  price transmission  mileage fuelType  tax   mpg  \\\n",
              "0       Fiesta  2017  12000    Automatic    15944   Petrol  150  57.7   \n",
              "1        Focus  2018  14000       Manual     9083   Petrol  150  57.7   \n",
              "2        Focus  2017  13000       Manual    12456   Petrol  150  57.7   \n",
              "3       Fiesta  2019  17500       Manual    10460   Petrol  145  40.3   \n",
              "4       Fiesta  2019  16500    Automatic     1482   Petrol  145  48.7   \n",
              "...        ...   ...    ...          ...      ...      ...  ...   ...   \n",
              "17961    B-MAX  2017   8999       Manual    16700   Petrol  150  47.1   \n",
              "17962    B-MAX  2014   7499       Manual    40700   Petrol   30  57.7   \n",
              "17963    Focus  2015   9999       Manual     7010   Diesel   20  67.3   \n",
              "17964       KA  2018   8299       Manual     5007   Petrol  145  57.7   \n",
              "17965    Focus  2015   8299       Manual     5007   Petrol   22  57.7   \n",
              "\n",
              "       engineSize  \n",
              "0             1.0  \n",
              "1             1.0  \n",
              "2             1.0  \n",
              "3             1.5  \n",
              "4             1.0  \n",
              "...           ...  \n",
              "17961         1.4  \n",
              "17962         1.0  \n",
              "17963         1.6  \n",
              "17964         1.2  \n",
              "17965         1.0  \n",
              "\n",
              "[17966 rows x 9 columns]"
            ],
            "text/html": [
              "\n",
              "  <div id=\"df-b8020cc5-dcb8-4140-86c3-f02c533f459d\" class=\"colab-df-container\">\n",
              "    <div>\n",
              "<style scoped>\n",
              "    .dataframe tbody tr th:only-of-type {\n",
              "        vertical-align: middle;\n",
              "    }\n",
              "\n",
              "    .dataframe tbody tr th {\n",
              "        vertical-align: top;\n",
              "    }\n",
              "\n",
              "    .dataframe thead th {\n",
              "        text-align: right;\n",
              "    }\n",
              "</style>\n",
              "<table border=\"1\" class=\"dataframe\">\n",
              "  <thead>\n",
              "    <tr style=\"text-align: right;\">\n",
              "      <th></th>\n",
              "      <th>model</th>\n",
              "      <th>year</th>\n",
              "      <th>price</th>\n",
              "      <th>transmission</th>\n",
              "      <th>mileage</th>\n",
              "      <th>fuelType</th>\n",
              "      <th>tax</th>\n",
              "      <th>mpg</th>\n",
              "      <th>engineSize</th>\n",
              "    </tr>\n",
              "  </thead>\n",
              "  <tbody>\n",
              "    <tr>\n",
              "      <th>0</th>\n",
              "      <td>Fiesta</td>\n",
              "      <td>2017</td>\n",
              "      <td>12000</td>\n",
              "      <td>Automatic</td>\n",
              "      <td>15944</td>\n",
              "      <td>Petrol</td>\n",
              "      <td>150</td>\n",
              "      <td>57.7</td>\n",
              "      <td>1.0</td>\n",
              "    </tr>\n",
              "    <tr>\n",
              "      <th>1</th>\n",
              "      <td>Focus</td>\n",
              "      <td>2018</td>\n",
              "      <td>14000</td>\n",
              "      <td>Manual</td>\n",
              "      <td>9083</td>\n",
              "      <td>Petrol</td>\n",
              "      <td>150</td>\n",
              "      <td>57.7</td>\n",
              "      <td>1.0</td>\n",
              "    </tr>\n",
              "    <tr>\n",
              "      <th>2</th>\n",
              "      <td>Focus</td>\n",
              "      <td>2017</td>\n",
              "      <td>13000</td>\n",
              "      <td>Manual</td>\n",
              "      <td>12456</td>\n",
              "      <td>Petrol</td>\n",
              "      <td>150</td>\n",
              "      <td>57.7</td>\n",
              "      <td>1.0</td>\n",
              "    </tr>\n",
              "    <tr>\n",
              "      <th>3</th>\n",
              "      <td>Fiesta</td>\n",
              "      <td>2019</td>\n",
              "      <td>17500</td>\n",
              "      <td>Manual</td>\n",
              "      <td>10460</td>\n",
              "      <td>Petrol</td>\n",
              "      <td>145</td>\n",
              "      <td>40.3</td>\n",
              "      <td>1.5</td>\n",
              "    </tr>\n",
              "    <tr>\n",
              "      <th>4</th>\n",
              "      <td>Fiesta</td>\n",
              "      <td>2019</td>\n",
              "      <td>16500</td>\n",
              "      <td>Automatic</td>\n",
              "      <td>1482</td>\n",
              "      <td>Petrol</td>\n",
              "      <td>145</td>\n",
              "      <td>48.7</td>\n",
              "      <td>1.0</td>\n",
              "    </tr>\n",
              "    <tr>\n",
              "      <th>...</th>\n",
              "      <td>...</td>\n",
              "      <td>...</td>\n",
              "      <td>...</td>\n",
              "      <td>...</td>\n",
              "      <td>...</td>\n",
              "      <td>...</td>\n",
              "      <td>...</td>\n",
              "      <td>...</td>\n",
              "      <td>...</td>\n",
              "    </tr>\n",
              "    <tr>\n",
              "      <th>17961</th>\n",
              "      <td>B-MAX</td>\n",
              "      <td>2017</td>\n",
              "      <td>8999</td>\n",
              "      <td>Manual</td>\n",
              "      <td>16700</td>\n",
              "      <td>Petrol</td>\n",
              "      <td>150</td>\n",
              "      <td>47.1</td>\n",
              "      <td>1.4</td>\n",
              "    </tr>\n",
              "    <tr>\n",
              "      <th>17962</th>\n",
              "      <td>B-MAX</td>\n",
              "      <td>2014</td>\n",
              "      <td>7499</td>\n",
              "      <td>Manual</td>\n",
              "      <td>40700</td>\n",
              "      <td>Petrol</td>\n",
              "      <td>30</td>\n",
              "      <td>57.7</td>\n",
              "      <td>1.0</td>\n",
              "    </tr>\n",
              "    <tr>\n",
              "      <th>17963</th>\n",
              "      <td>Focus</td>\n",
              "      <td>2015</td>\n",
              "      <td>9999</td>\n",
              "      <td>Manual</td>\n",
              "      <td>7010</td>\n",
              "      <td>Diesel</td>\n",
              "      <td>20</td>\n",
              "      <td>67.3</td>\n",
              "      <td>1.6</td>\n",
              "    </tr>\n",
              "    <tr>\n",
              "      <th>17964</th>\n",
              "      <td>KA</td>\n",
              "      <td>2018</td>\n",
              "      <td>8299</td>\n",
              "      <td>Manual</td>\n",
              "      <td>5007</td>\n",
              "      <td>Petrol</td>\n",
              "      <td>145</td>\n",
              "      <td>57.7</td>\n",
              "      <td>1.2</td>\n",
              "    </tr>\n",
              "    <tr>\n",
              "      <th>17965</th>\n",
              "      <td>Focus</td>\n",
              "      <td>2015</td>\n",
              "      <td>8299</td>\n",
              "      <td>Manual</td>\n",
              "      <td>5007</td>\n",
              "      <td>Petrol</td>\n",
              "      <td>22</td>\n",
              "      <td>57.7</td>\n",
              "      <td>1.0</td>\n",
              "    </tr>\n",
              "  </tbody>\n",
              "</table>\n",
              "<p>17966 rows × 9 columns</p>\n",
              "</div>\n",
              "    <div class=\"colab-df-buttons\">\n",
              "\n",
              "  <div class=\"colab-df-container\">\n",
              "    <button class=\"colab-df-convert\" onclick=\"convertToInteractive('df-b8020cc5-dcb8-4140-86c3-f02c533f459d')\"\n",
              "            title=\"Convert this dataframe to an interactive table.\"\n",
              "            style=\"display:none;\">\n",
              "\n",
              "  <svg xmlns=\"http://www.w3.org/2000/svg\" height=\"24px\" viewBox=\"0 -960 960 960\">\n",
              "    <path d=\"M120-120v-720h720v720H120Zm60-500h600v-160H180v160Zm220 220h160v-160H400v160Zm0 220h160v-160H400v160ZM180-400h160v-160H180v160Zm440 0h160v-160H620v160ZM180-180h160v-160H180v160Zm440 0h160v-160H620v160Z\"/>\n",
              "  </svg>\n",
              "    </button>\n",
              "\n",
              "  <style>\n",
              "    .colab-df-container {\n",
              "      display:flex;\n",
              "      gap: 12px;\n",
              "    }\n",
              "\n",
              "    .colab-df-convert {\n",
              "      background-color: #E8F0FE;\n",
              "      border: none;\n",
              "      border-radius: 50%;\n",
              "      cursor: pointer;\n",
              "      display: none;\n",
              "      fill: #1967D2;\n",
              "      height: 32px;\n",
              "      padding: 0 0 0 0;\n",
              "      width: 32px;\n",
              "    }\n",
              "\n",
              "    .colab-df-convert:hover {\n",
              "      background-color: #E2EBFA;\n",
              "      box-shadow: 0px 1px 2px rgba(60, 64, 67, 0.3), 0px 1px 3px 1px rgba(60, 64, 67, 0.15);\n",
              "      fill: #174EA6;\n",
              "    }\n",
              "\n",
              "    .colab-df-buttons div {\n",
              "      margin-bottom: 4px;\n",
              "    }\n",
              "\n",
              "    [theme=dark] .colab-df-convert {\n",
              "      background-color: #3B4455;\n",
              "      fill: #D2E3FC;\n",
              "    }\n",
              "\n",
              "    [theme=dark] .colab-df-convert:hover {\n",
              "      background-color: #434B5C;\n",
              "      box-shadow: 0px 1px 3px 1px rgba(0, 0, 0, 0.15);\n",
              "      filter: drop-shadow(0px 1px 2px rgba(0, 0, 0, 0.3));\n",
              "      fill: #FFFFFF;\n",
              "    }\n",
              "  </style>\n",
              "\n",
              "    <script>\n",
              "      const buttonEl =\n",
              "        document.querySelector('#df-b8020cc5-dcb8-4140-86c3-f02c533f459d button.colab-df-convert');\n",
              "      buttonEl.style.display =\n",
              "        google.colab.kernel.accessAllowed ? 'block' : 'none';\n",
              "\n",
              "      async function convertToInteractive(key) {\n",
              "        const element = document.querySelector('#df-b8020cc5-dcb8-4140-86c3-f02c533f459d');\n",
              "        const dataTable =\n",
              "          await google.colab.kernel.invokeFunction('convertToInteractive',\n",
              "                                                    [key], {});\n",
              "        if (!dataTable) return;\n",
              "\n",
              "        const docLinkHtml = 'Like what you see? Visit the ' +\n",
              "          '<a target=\"_blank\" href=https://colab.research.google.com/notebooks/data_table.ipynb>data table notebook</a>'\n",
              "          + ' to learn more about interactive tables.';\n",
              "        element.innerHTML = '';\n",
              "        dataTable['output_type'] = 'display_data';\n",
              "        await google.colab.output.renderOutput(dataTable, element);\n",
              "        const docLink = document.createElement('div');\n",
              "        docLink.innerHTML = docLinkHtml;\n",
              "        element.appendChild(docLink);\n",
              "      }\n",
              "    </script>\n",
              "  </div>\n",
              "\n",
              "\n",
              "<div id=\"df-21d62abe-fa10-407c-872f-e1b811de957a\">\n",
              "  <button class=\"colab-df-quickchart\" onclick=\"quickchart('df-21d62abe-fa10-407c-872f-e1b811de957a')\"\n",
              "            title=\"Suggest charts.\"\n",
              "            style=\"display:none;\">\n",
              "\n",
              "<svg xmlns=\"http://www.w3.org/2000/svg\" height=\"24px\"viewBox=\"0 0 24 24\"\n",
              "     width=\"24px\">\n",
              "    <g>\n",
              "        <path d=\"M19 3H5c-1.1 0-2 .9-2 2v14c0 1.1.9 2 2 2h14c1.1 0 2-.9 2-2V5c0-1.1-.9-2-2-2zM9 17H7v-7h2v7zm4 0h-2V7h2v10zm4 0h-2v-4h2v4z\"/>\n",
              "    </g>\n",
              "</svg>\n",
              "  </button>\n",
              "\n",
              "<style>\n",
              "  .colab-df-quickchart {\n",
              "      --bg-color: #E8F0FE;\n",
              "      --fill-color: #1967D2;\n",
              "      --hover-bg-color: #E2EBFA;\n",
              "      --hover-fill-color: #174EA6;\n",
              "      --disabled-fill-color: #AAA;\n",
              "      --disabled-bg-color: #DDD;\n",
              "  }\n",
              "\n",
              "  [theme=dark] .colab-df-quickchart {\n",
              "      --bg-color: #3B4455;\n",
              "      --fill-color: #D2E3FC;\n",
              "      --hover-bg-color: #434B5C;\n",
              "      --hover-fill-color: #FFFFFF;\n",
              "      --disabled-bg-color: #3B4455;\n",
              "      --disabled-fill-color: #666;\n",
              "  }\n",
              "\n",
              "  .colab-df-quickchart {\n",
              "    background-color: var(--bg-color);\n",
              "    border: none;\n",
              "    border-radius: 50%;\n",
              "    cursor: pointer;\n",
              "    display: none;\n",
              "    fill: var(--fill-color);\n",
              "    height: 32px;\n",
              "    padding: 0;\n",
              "    width: 32px;\n",
              "  }\n",
              "\n",
              "  .colab-df-quickchart:hover {\n",
              "    background-color: var(--hover-bg-color);\n",
              "    box-shadow: 0 1px 2px rgba(60, 64, 67, 0.3), 0 1px 3px 1px rgba(60, 64, 67, 0.15);\n",
              "    fill: var(--button-hover-fill-color);\n",
              "  }\n",
              "\n",
              "  .colab-df-quickchart-complete:disabled,\n",
              "  .colab-df-quickchart-complete:disabled:hover {\n",
              "    background-color: var(--disabled-bg-color);\n",
              "    fill: var(--disabled-fill-color);\n",
              "    box-shadow: none;\n",
              "  }\n",
              "\n",
              "  .colab-df-spinner {\n",
              "    border: 2px solid var(--fill-color);\n",
              "    border-color: transparent;\n",
              "    border-bottom-color: var(--fill-color);\n",
              "    animation:\n",
              "      spin 1s steps(1) infinite;\n",
              "  }\n",
              "\n",
              "  @keyframes spin {\n",
              "    0% {\n",
              "      border-color: transparent;\n",
              "      border-bottom-color: var(--fill-color);\n",
              "      border-left-color: var(--fill-color);\n",
              "    }\n",
              "    20% {\n",
              "      border-color: transparent;\n",
              "      border-left-color: var(--fill-color);\n",
              "      border-top-color: var(--fill-color);\n",
              "    }\n",
              "    30% {\n",
              "      border-color: transparent;\n",
              "      border-left-color: var(--fill-color);\n",
              "      border-top-color: var(--fill-color);\n",
              "      border-right-color: var(--fill-color);\n",
              "    }\n",
              "    40% {\n",
              "      border-color: transparent;\n",
              "      border-right-color: var(--fill-color);\n",
              "      border-top-color: var(--fill-color);\n",
              "    }\n",
              "    60% {\n",
              "      border-color: transparent;\n",
              "      border-right-color: var(--fill-color);\n",
              "    }\n",
              "    80% {\n",
              "      border-color: transparent;\n",
              "      border-right-color: var(--fill-color);\n",
              "      border-bottom-color: var(--fill-color);\n",
              "    }\n",
              "    90% {\n",
              "      border-color: transparent;\n",
              "      border-bottom-color: var(--fill-color);\n",
              "    }\n",
              "  }\n",
              "</style>\n",
              "\n",
              "  <script>\n",
              "    async function quickchart(key) {\n",
              "      const quickchartButtonEl =\n",
              "        document.querySelector('#' + key + ' button');\n",
              "      quickchartButtonEl.disabled = true;  // To prevent multiple clicks.\n",
              "      quickchartButtonEl.classList.add('colab-df-spinner');\n",
              "      try {\n",
              "        const charts = await google.colab.kernel.invokeFunction(\n",
              "            'suggestCharts', [key], {});\n",
              "      } catch (error) {\n",
              "        console.error('Error during call to suggestCharts:', error);\n",
              "      }\n",
              "      quickchartButtonEl.classList.remove('colab-df-spinner');\n",
              "      quickchartButtonEl.classList.add('colab-df-quickchart-complete');\n",
              "    }\n",
              "    (() => {\n",
              "      let quickchartButtonEl =\n",
              "        document.querySelector('#df-21d62abe-fa10-407c-872f-e1b811de957a button');\n",
              "      quickchartButtonEl.style.display =\n",
              "        google.colab.kernel.accessAllowed ? 'block' : 'none';\n",
              "    })();\n",
              "  </script>\n",
              "</div>\n",
              "    </div>\n",
              "  </div>\n"
            ]
          },
          "metadata": {},
          "execution_count": 3
        }
      ]
    },
    {
      "cell_type": "markdown",
      "source": [
        "Terdapat 21613 data yang terdiri dari 21 atribut.\n",
        "\n",
        "id: notasi rumah\n",
        "\n",
        "date: tanggal rumah terjual\n",
        "\n",
        "price: harga penjualan rumah, fitur target\n",
        "\n",
        "bedrooms: jumlah kamar tidur pada rumah\n",
        "\n",
        "bathrooms: jumlah kamar mandi pada rumah, nilai .5 merupakan toilet\n",
        "\n",
        "sqft_living: luas *living area* dalam satuan *square feet*\n",
        "\n",
        "sqft_lot: luas tanah dalam satuan *square feet*\n",
        "\n",
        "floors: jumlah tingkat/lantai rumah\n",
        "\n",
        "waterfront: rumah dengan view menghadap pantai\n",
        "\n",
        "view: Indeks seberapa bagus pemandangan rumah tersebut\n",
        "\n",
        "condition: kondisinya secara keseluruhan\n",
        "\n",
        "grade: nilai keseluruhan yang diberikan kepada *housing-unit,* berdasarkan sistem penilaian King County\n",
        "\n",
        "sqft_above: luas rumah yang berada di atas permukaan tanah dalam satuan *square feet*\n",
        "\n",
        "sqft_basement: luas ruang-bawah-tanah dalam satuan *square feet*\n",
        "\n",
        "yr_built: tahun pertama kali dibangun\n",
        "\n",
        "yr_renovated: tahun terakhir rumah direnovasi\n",
        "\n",
        "zipcode: kode pos\n",
        "\n",
        "lat: koordinat garis lintang\n",
        "\n",
        "long: koordinat garis bujur\n",
        "\n",
        "sqft_living15: Luas *living area* untuk *nearest 15 neighbors*\n",
        "\n",
        "sqft_lot15: Luar area tanah untuk *nearest 15 neighbors*"
      ],
      "metadata": {
        "id": "I-RL4CtJKxos"
      }
    },
    {
      "cell_type": "markdown",
      "source": [
        "**Anomali Data pada Atribut floors**\n",
        "\n",
        "Terdapat anomali data pada atribut floors. Anomali tersebut berupa nilai pecahan yang ada pada atribut tersebut seperti 3.50, dan tipe data floors berupa float. Sedangkan, banyaknya lantai pada suatu bangunan pasti bernilai bilangan bulat."
      ],
      "metadata": {
        "id": "wa0N47eH8b6U"
      }
    },
    {
      "cell_type": "markdown",
      "source": [
        "**Anomali Data pada Atribut bathrooms**\n",
        "\n",
        "Dari peninjauan sekilas dataset di atas, didapatkan nilai dari fitur 'bathrooms' yaitu 0.75, 1.00, 2.00, 2.25, 2.50, 3. Anomali terjadi pada banyaknya kamar mandi yang bernilai pecahan. Meski pada keterangan fitur-fitur dijelasakan bahwa nilai .5 pada fitur bathrooms menunjukkan toilet bukan kamar mandi, namun nilai 'bathrooms' yang berkelipatan .25 seperti .25 dan .75 belum diketahui apa maksud dari nilai tersebut."
      ],
      "metadata": {
        "id": "FWk0NJLw8mpw"
      }
    },
    {
      "cell_type": "markdown",
      "source": [
        "**Anomali Kualitas Data pada Atribut id**"
      ],
      "metadata": {
        "id": "jQvvw4oinR5t"
      }
    },
    {
      "cell_type": "code",
      "source": [
        "print(house.nunique(axis=0))"
      ],
      "metadata": {
        "colab": {
          "base_uri": "https://localhost:8080/"
        },
        "id": "xVgqpxm08VAB",
        "outputId": "f0b5b7e7-6900-4188-9fec-e20f169624ca"
      },
      "execution_count": 4,
      "outputs": [
        {
          "output_type": "stream",
          "name": "stdout",
          "text": [
            "model              24\n",
            "year               23\n",
            "price            3511\n",
            "transmission        3\n",
            "mileage         13528\n",
            "fuelType            5\n",
            "tax                36\n",
            "mpg                90\n",
            "engineSize         16\n",
            "dtype: int64\n"
          ]
        }
      ]
    },
    {
      "cell_type": "markdown",
      "source": [
        "Dari hasil keluaran cek nilai unik pada data didapatkan bahwa atribut id memiliki nilai unik sebanyak 21436. Sedangkan total data pada dataset berjumlah 21613. Hal ini menunjukkan ketidakwajaran. Karena, nilai dari id harus unik untuk setiap data."
      ],
      "metadata": {
        "id": "4k-B05v_8Wnb"
      }
    },
    {
      "cell_type": "markdown",
      "source": [
        "**Mengecek Informasi pada Dataset**"
      ],
      "metadata": {
        "id": "aNMh7RdcN453"
      }
    },
    {
      "cell_type": "code",
      "source": [
        "house.info()"
      ],
      "metadata": {
        "colab": {
          "base_uri": "https://localhost:8080/"
        },
        "id": "GubAvxw3NlOs",
        "outputId": "27fc4060-768f-415e-c276-83f8b646060b"
      },
      "execution_count": 5,
      "outputs": [
        {
          "output_type": "stream",
          "name": "stdout",
          "text": [
            "<class 'pandas.core.frame.DataFrame'>\n",
            "RangeIndex: 17966 entries, 0 to 17965\n",
            "Data columns (total 9 columns):\n",
            " #   Column        Non-Null Count  Dtype  \n",
            "---  ------        --------------  -----  \n",
            " 0   model         17966 non-null  object \n",
            " 1   year          17966 non-null  int64  \n",
            " 2   price         17966 non-null  int64  \n",
            " 3   transmission  17966 non-null  object \n",
            " 4   mileage       17966 non-null  int64  \n",
            " 5   fuelType      17966 non-null  object \n",
            " 6   tax           17966 non-null  int64  \n",
            " 7   mpg           17966 non-null  float64\n",
            " 8   engineSize    17966 non-null  float64\n",
            "dtypes: float64(2), int64(4), object(3)\n",
            "memory usage: 1.2+ MB\n"
          ]
        }
      ]
    },
    {
      "cell_type": "markdown",
      "source": [
        "Terdapat enam atribut bertipe data float, empat belas atribut bertipe data integer, satu atribut bertipe data objetct."
      ],
      "metadata": {
        "id": "b60NBddLOBTO"
      }
    },
    {
      "cell_type": "markdown",
      "source": [
        "**Anomali pada Tipe Data**\n",
        "\n",
        "Ditemukan Anomali pada tipe data beberapa atribut.\n",
        "- Atribut bathrooms dan floors seharusnya bertipe data integer. Hal ini selaras dengan anomali nilai bathrooms dan floors yang sebelumnya telah dibahas, dan belum diketahui alasan terdapatnya nilai pecahan pada atribut bathrooms, dan floors.\n",
        "- Atribut yang menjelaskan mengenai luas suatu daerah seharusnya bertipe data float. Meskipun seluruh data memiliki nilai dengan bilangan bulat, seharusnya atribut yang berkaitan dengan ukuran luas bertipe data float. Hal ini dikarenakan ukuran luas bersifat kontinu. Dan pada kasus dataset ini yang terdiri dari lebih dari 20.000 data, sulit dipercaya bahwa luas dari masing-masing daerah bernilai bulat dalam satuan square-feet. Atribut-atribut yang dimaksud antara lain: sqft_living, sqft_lot, sqft_above, sqft_basement, sqft_living15, sqft_lot15."
      ],
      "metadata": {
        "id": "3lvtm6JcJHkC"
      }
    },
    {
      "cell_type": "markdown",
      "source": [
        "**Mengubah Atribut 'date' Menjadi 'month' dan 'year'**"
      ],
      "metadata": {
        "id": "mlbxvpDLM7lH"
      }
    },
    {
      "cell_type": "code",
      "source": [
        "house['date'] = pd.to_datetime(house['date'])"
      ],
      "metadata": {
        "id": "nZUbXkSHM0vK",
        "colab": {
          "base_uri": "https://localhost:8080/",
          "height": 512
        },
        "outputId": "f30f6a3c-db18-4de5-8968-7fef14325b3d"
      },
      "execution_count": 6,
      "outputs": [
        {
          "output_type": "error",
          "ename": "KeyError",
          "evalue": "ignored",
          "traceback": [
            "\u001b[0;31m---------------------------------------------------------------------------\u001b[0m",
            "\u001b[0;31mKeyError\u001b[0m                                  Traceback (most recent call last)",
            "\u001b[0;32m/usr/local/lib/python3.10/dist-packages/pandas/core/indexes/base.py\u001b[0m in \u001b[0;36mget_loc\u001b[0;34m(self, key, method, tolerance)\u001b[0m\n\u001b[1;32m   3801\u001b[0m             \u001b[0;32mtry\u001b[0m\u001b[0;34m:\u001b[0m\u001b[0;34m\u001b[0m\u001b[0;34m\u001b[0m\u001b[0m\n\u001b[0;32m-> 3802\u001b[0;31m                 \u001b[0;32mreturn\u001b[0m \u001b[0mself\u001b[0m\u001b[0;34m.\u001b[0m\u001b[0m_engine\u001b[0m\u001b[0;34m.\u001b[0m\u001b[0mget_loc\u001b[0m\u001b[0;34m(\u001b[0m\u001b[0mcasted_key\u001b[0m\u001b[0;34m)\u001b[0m\u001b[0;34m\u001b[0m\u001b[0;34m\u001b[0m\u001b[0m\n\u001b[0m\u001b[1;32m   3803\u001b[0m             \u001b[0;32mexcept\u001b[0m \u001b[0mKeyError\u001b[0m \u001b[0;32mas\u001b[0m \u001b[0merr\u001b[0m\u001b[0;34m:\u001b[0m\u001b[0;34m\u001b[0m\u001b[0;34m\u001b[0m\u001b[0m\n",
            "\u001b[0;32m/usr/local/lib/python3.10/dist-packages/pandas/_libs/index.pyx\u001b[0m in \u001b[0;36mpandas._libs.index.IndexEngine.get_loc\u001b[0;34m()\u001b[0m\n",
            "\u001b[0;32m/usr/local/lib/python3.10/dist-packages/pandas/_libs/index.pyx\u001b[0m in \u001b[0;36mpandas._libs.index.IndexEngine.get_loc\u001b[0;34m()\u001b[0m\n",
            "\u001b[0;32mpandas/_libs/hashtable_class_helper.pxi\u001b[0m in \u001b[0;36mpandas._libs.hashtable.PyObjectHashTable.get_item\u001b[0;34m()\u001b[0m\n",
            "\u001b[0;32mpandas/_libs/hashtable_class_helper.pxi\u001b[0m in \u001b[0;36mpandas._libs.hashtable.PyObjectHashTable.get_item\u001b[0;34m()\u001b[0m\n",
            "\u001b[0;31mKeyError\u001b[0m: 'date'",
            "\nThe above exception was the direct cause of the following exception:\n",
            "\u001b[0;31mKeyError\u001b[0m                                  Traceback (most recent call last)",
            "\u001b[0;32m<ipython-input-6-44cb6b0d239d>\u001b[0m in \u001b[0;36m<cell line: 1>\u001b[0;34m()\u001b[0m\n\u001b[0;32m----> 1\u001b[0;31m \u001b[0mhouse\u001b[0m\u001b[0;34m[\u001b[0m\u001b[0;34m'date'\u001b[0m\u001b[0;34m]\u001b[0m \u001b[0;34m=\u001b[0m \u001b[0mpd\u001b[0m\u001b[0;34m.\u001b[0m\u001b[0mto_datetime\u001b[0m\u001b[0;34m(\u001b[0m\u001b[0mhouse\u001b[0m\u001b[0;34m[\u001b[0m\u001b[0;34m'date'\u001b[0m\u001b[0;34m]\u001b[0m\u001b[0;34m)\u001b[0m\u001b[0;34m\u001b[0m\u001b[0;34m\u001b[0m\u001b[0m\n\u001b[0m",
            "\u001b[0;32m/usr/local/lib/python3.10/dist-packages/pandas/core/frame.py\u001b[0m in \u001b[0;36m__getitem__\u001b[0;34m(self, key)\u001b[0m\n\u001b[1;32m   3805\u001b[0m             \u001b[0;32mif\u001b[0m \u001b[0mself\u001b[0m\u001b[0;34m.\u001b[0m\u001b[0mcolumns\u001b[0m\u001b[0;34m.\u001b[0m\u001b[0mnlevels\u001b[0m \u001b[0;34m>\u001b[0m \u001b[0;36m1\u001b[0m\u001b[0;34m:\u001b[0m\u001b[0;34m\u001b[0m\u001b[0;34m\u001b[0m\u001b[0m\n\u001b[1;32m   3806\u001b[0m                 \u001b[0;32mreturn\u001b[0m \u001b[0mself\u001b[0m\u001b[0;34m.\u001b[0m\u001b[0m_getitem_multilevel\u001b[0m\u001b[0;34m(\u001b[0m\u001b[0mkey\u001b[0m\u001b[0;34m)\u001b[0m\u001b[0;34m\u001b[0m\u001b[0;34m\u001b[0m\u001b[0m\n\u001b[0;32m-> 3807\u001b[0;31m             \u001b[0mindexer\u001b[0m \u001b[0;34m=\u001b[0m \u001b[0mself\u001b[0m\u001b[0;34m.\u001b[0m\u001b[0mcolumns\u001b[0m\u001b[0;34m.\u001b[0m\u001b[0mget_loc\u001b[0m\u001b[0;34m(\u001b[0m\u001b[0mkey\u001b[0m\u001b[0;34m)\u001b[0m\u001b[0;34m\u001b[0m\u001b[0;34m\u001b[0m\u001b[0m\n\u001b[0m\u001b[1;32m   3808\u001b[0m             \u001b[0;32mif\u001b[0m \u001b[0mis_integer\u001b[0m\u001b[0;34m(\u001b[0m\u001b[0mindexer\u001b[0m\u001b[0;34m)\u001b[0m\u001b[0;34m:\u001b[0m\u001b[0;34m\u001b[0m\u001b[0;34m\u001b[0m\u001b[0m\n\u001b[1;32m   3809\u001b[0m                 \u001b[0mindexer\u001b[0m \u001b[0;34m=\u001b[0m \u001b[0;34m[\u001b[0m\u001b[0mindexer\u001b[0m\u001b[0;34m]\u001b[0m\u001b[0;34m\u001b[0m\u001b[0;34m\u001b[0m\u001b[0m\n",
            "\u001b[0;32m/usr/local/lib/python3.10/dist-packages/pandas/core/indexes/base.py\u001b[0m in \u001b[0;36mget_loc\u001b[0;34m(self, key, method, tolerance)\u001b[0m\n\u001b[1;32m   3802\u001b[0m                 \u001b[0;32mreturn\u001b[0m \u001b[0mself\u001b[0m\u001b[0;34m.\u001b[0m\u001b[0m_engine\u001b[0m\u001b[0;34m.\u001b[0m\u001b[0mget_loc\u001b[0m\u001b[0;34m(\u001b[0m\u001b[0mcasted_key\u001b[0m\u001b[0;34m)\u001b[0m\u001b[0;34m\u001b[0m\u001b[0;34m\u001b[0m\u001b[0m\n\u001b[1;32m   3803\u001b[0m             \u001b[0;32mexcept\u001b[0m \u001b[0mKeyError\u001b[0m \u001b[0;32mas\u001b[0m \u001b[0merr\u001b[0m\u001b[0;34m:\u001b[0m\u001b[0;34m\u001b[0m\u001b[0;34m\u001b[0m\u001b[0m\n\u001b[0;32m-> 3804\u001b[0;31m                 \u001b[0;32mraise\u001b[0m \u001b[0mKeyError\u001b[0m\u001b[0;34m(\u001b[0m\u001b[0mkey\u001b[0m\u001b[0;34m)\u001b[0m \u001b[0;32mfrom\u001b[0m \u001b[0merr\u001b[0m\u001b[0;34m\u001b[0m\u001b[0;34m\u001b[0m\u001b[0m\n\u001b[0m\u001b[1;32m   3805\u001b[0m             \u001b[0;32mexcept\u001b[0m \u001b[0mTypeError\u001b[0m\u001b[0;34m:\u001b[0m\u001b[0;34m\u001b[0m\u001b[0;34m\u001b[0m\u001b[0m\n\u001b[1;32m   3806\u001b[0m                 \u001b[0;31m# If we have a listlike key, _check_indexing_error will raise\u001b[0m\u001b[0;34m\u001b[0m\u001b[0;34m\u001b[0m\u001b[0m\n",
            "\u001b[0;31mKeyError\u001b[0m: 'date'"
          ]
        }
      ]
    },
    {
      "cell_type": "code",
      "source": [
        "house['month'] = house['date'].apply(lambda date: date.month)\n",
        "house['year'] = house['date'].apply(lambda date: date.year)"
      ],
      "metadata": {
        "id": "vbqLytqdNID2"
      },
      "execution_count": null,
      "outputs": []
    },
    {
      "cell_type": "markdown",
      "source": [
        "**Menghapus Atribut 'id' dan 'date'**\n",
        "\n",
        "Atribut 'id' tidak digunakan dalam prediksi. Atribut 'date' sudah digantikan dengan atribut 'month' dan 'year'."
      ],
      "metadata": {
        "id": "5TUD4jXgNn6q"
      }
    },
    {
      "cell_type": "code",
      "source": [
        "house.drop('id',inplace=True,axis=1)\n",
        "house.drop('date',inplace=True,axis=1)"
      ],
      "metadata": {
        "id": "JzmI90AgNnTs"
      },
      "execution_count": null,
      "outputs": []
    },
    {
      "cell_type": "markdown",
      "source": [
        "**Melihat Keberadaan Data 'null' *(missing value)* pada Dataset**"
      ],
      "metadata": {
        "id": "v35fQBNgl6kM"
      }
    },
    {
      "cell_type": "code",
      "source": [
        "house.isnull().sum()"
      ],
      "metadata": {
        "id": "j8675eMwl6QM"
      },
      "execution_count": null,
      "outputs": []
    },
    {
      "cell_type": "markdown",
      "source": [
        "Tidak ditemukan data yang bernilai null pada tiap-tiap atribut."
      ],
      "metadata": {
        "id": "WqVa313NmAjG"
      }
    },
    {
      "cell_type": "markdown",
      "source": [
        "**Melihat Deskripsi Statistika Dataset**"
      ],
      "metadata": {
        "id": "UXKdu_eSOSUD"
      }
    },
    {
      "cell_type": "code",
      "source": [
        "house.describe()"
      ],
      "metadata": {
        "id": "G8F8vgjpOSCW"
      },
      "execution_count": null,
      "outputs": []
    },
    {
      "cell_type": "markdown",
      "source": [
        "Terdapat anomali data ditunjukkan pada nilai minimum variabel bathrooms, dan bedrooms. Tidak sewajarnya rumah pada tahun 2014-2015 di daerah Washington, USA, tidak memiliki kamar tidur atau kamar mandi."
      ],
      "metadata": {
        "id": "KcyCTf9F-EAd"
      }
    },
    {
      "cell_type": "markdown",
      "source": [
        "**Cek Nilai 0 pada Atribut 'bedrooms' dan 'bathrooms'**"
      ],
      "metadata": {
        "id": "onm_GDjR-gIf"
      }
    },
    {
      "cell_type": "code",
      "source": [
        "bedrooms = (house.bedrooms == 0).sum()\n",
        "bathrooms = (house.bathrooms == 0).sum()\n",
        "\n",
        "print(\"Nilai 0 di kolom bedrooms ada: \", bedrooms)\n",
        "print(\"Nilai 0 di kolom y bathrooms: \", bathrooms)"
      ],
      "metadata": {
        "id": "nGCPa8fm-iFG"
      },
      "execution_count": null,
      "outputs": []
    },
    {
      "cell_type": "markdown",
      "source": [
        "**Cek apakah tiga belas nilai 0 pada atribut bedrooms terdapat pada baris yang sama pada empat belas nilai 0 milik atribut bathrooms?**\n",
        "\n",
        "Pengecekkan menggunakan atribut bathrooms dengan nilai 0 lebih banyak dari nilai bedrooms."
      ],
      "metadata": {
        "id": "RH0jS2dA-mNH"
      }
    },
    {
      "cell_type": "code",
      "source": [
        "house.loc[(house['bathrooms']==0)]"
      ],
      "metadata": {
        "id": "UipcRFNt-oCI"
      },
      "execution_count": null,
      "outputs": []
    },
    {
      "cell_type": "markdown",
      "source": [
        "Nilai 0 pada baris data atribut bedrooms berbeda dengan baris data nilai 0 milik atribut bathrooms.\n",
        "\n",
        "Sehingga, kita perlu hapus baris yang memiliki nilai 0 untuk masing-masing variabel bedrooms dan bathrooms."
      ],
      "metadata": {
        "id": "um5hISL8-wRV"
      }
    },
    {
      "cell_type": "markdown",
      "source": [
        "**Menghapus Nilai 0 pada Variabel 'bedrooms' dan 'bathrooms'**"
      ],
      "metadata": {
        "id": "nczISct0-yTA"
      }
    },
    {
      "cell_type": "code",
      "source": [
        "house = house.loc[(house[['bedrooms','bathrooms']]!=0).all(axis=1)]"
      ],
      "metadata": {
        "id": "31FPBuVV-vPI"
      },
      "execution_count": null,
      "outputs": []
    },
    {
      "cell_type": "markdown",
      "source": [
        "**Cek Ukuran Data Saat Ini**"
      ],
      "metadata": {
        "id": "b1Opuu93-5db"
      }
    },
    {
      "cell_type": "code",
      "source": [
        "house.shape"
      ],
      "metadata": {
        "id": "6F3Jo7Wt-6c9"
      },
      "execution_count": null,
      "outputs": []
    },
    {
      "cell_type": "markdown",
      "source": [
        "**Univariate EDA**"
      ],
      "metadata": {
        "id": "FrNTVQUssFb0"
      }
    },
    {
      "cell_type": "markdown",
      "source": [
        "**Analisis Fitur Numerik dengan data fitur tunggal**"
      ],
      "metadata": {
        "id": "eqK7GOg-sJob"
      }
    },
    {
      "cell_type": "code",
      "source": [
        "house.hist(bins=50, figsize=(20,15))\n",
        "plt.show()"
      ],
      "metadata": {
        "id": "sVQE3FnRsF30"
      },
      "execution_count": null,
      "outputs": []
    },
    {
      "cell_type": "markdown",
      "source": [
        "Informasi dari histogram di atas:\n",
        "\n",
        "1. Peningkatan harga rumah sebanding dengan penurunan jumlah sampel. Distribusi harga rumah miring ke kanan (right-skewed).\n",
        "2. Lebih dari 50% rumah memiliki satu hingga lima kamar tidur.\n",
        "3. Sebagian besar rumah memiliki dua kamar mandi.\n",
        "4. Sebagian besar rumah memiliki luas rumah 2000 *square feet.*\n",
        "5. Sebagian besar rumah memiliki luas tanah atau *lot* sekitar satu *square feet.*\n",
        "6. Sebagian besar rumah memiliki satu atau dua tingkat/lantai.\n",
        "7. Sebagian besar rumah tidak memiliki *waterfront*.\n",
        "8.  Sebagian besar rumah tidak memiliki *view*.\n",
        "9. Sebagian besar rumah memiliki nilai *condition* sebesar tiga poin.\n",
        "10. Sebagian besar rumah meiliki nilai *grade* sebesar tujuh hingga delapan poin.\n",
        "11. Sebagian besar rumah memiliki luas *above* atau *footage of house apart from basement* sebesar ratusan hingga 6100 *square feet.*\n",
        "12. Sebagian besar rumah tidak memiliki *basement*.\n",
        "13. Rumah dibangun di antara rentang tahun 1900 hingga 2015.\n",
        "14. Sebagian besar rumah tidak mengalami renovasi.\n",
        "15. Data *zipcode* rumah berada pada rentang nilai 98000 hingga 98200.\n",
        "16. Data *latitude* menggambarkan *left-skewed*.\n",
        "17. Data *longitude* menggambarkan *right-skewed*.\n",
        "18. Data variabel sqft_living15 menggambarkan *right-skewed*.\n",
        "19. Sebagian besar rumah tidak merenovasi luas *lot* atau tanah, sehingga data sqft_lot15 terbanyak berada pada nilai 0.\n",
        "20. Penjualan terbanyak berada pada bulan Mei.\n",
        "21. Penjualan pada tahun 2014 lebih banyak daripada penjualan di tahun 2015."
      ],
      "metadata": {
        "id": "bUQA1JpqsP85"
      }
    },
    {
      "cell_type": "markdown",
      "source": [
        "**Multivariate EDA**"
      ],
      "metadata": {
        "id": "nhiQKo6IsSvG"
      }
    },
    {
      "cell_type": "markdown",
      "source": [
        "**Mengamati Hubungan Antar Fitur Numerik dengan Fungsi 'pairplot()'**"
      ],
      "metadata": {
        "id": "DvnFSmTIsVp6"
      }
    },
    {
      "cell_type": "code",
      "source": [
        "sns.pairplot(house, diag_kind = 'kde')"
      ],
      "metadata": {
        "id": "AaOy7or1sNTr"
      },
      "execution_count": null,
      "outputs": []
    },
    {
      "cell_type": "markdown",
      "source": [
        "Keterkaitan antara tiap atribut dengan atribut *price* terlihat pada baris pertama visualisasi data.\n",
        "\n",
        "Jika nilai pada sumbu x semakin besar dan nilai pada sumbu y semakin besar, maka kedua variabel tersebut memiliki hubungan positif.\n",
        "\n",
        "Jika nilai pada sumbu x semakin besar, namun nilai pada sumbu y semakin kecil, maka kedua variabel tersebut memiliki hubungan negatif.\n",
        "\n",
        "Jika hasil visualisasi tidak membentuk pola maka, kedua variabel tersebut tidak berhubungan.\n",
        "\n",
        "Dari grafik di atas, fitur-fitur yang memiliki hubungan positif terhadap target (price) adalah bathrooms, sqft_living, grade, sqft_above,sqft_living15."
      ],
      "metadata": {
        "id": "W1OVyFKQsZEE"
      }
    },
    {
      "cell_type": "markdown",
      "source": [
        "**Evaluasai Skor Korelasi dengan Fungsi 'corr()'**"
      ],
      "metadata": {
        "id": "uFFVU1CksgCD"
      }
    },
    {
      "cell_type": "code",
      "source": [
        "plt.figure(figsize=(10, 8))\n",
        "correlation_matrix = house.corr().round(2)\n",
        "\n",
        "# Parameter 'annot = True', untuk menampilkan nilai dalam persegi\n",
        "sns.heatmap(data=correlation_matrix, annot=True, cmap='coolwarm', linewidths=0.5, )\n",
        "plt.title(\"Correlation Matrix untuk tiap fitur \", size=20)"
      ],
      "metadata": {
        "id": "OludsnyAtMqt"
      },
      "execution_count": null,
      "outputs": []
    },
    {
      "cell_type": "markdown",
      "source": [
        "Keterangan matriks:\n",
        "\n",
        "1. Korelasi tiap fitur terhadap fitur 'price' tertera pada baris pertama.\n",
        "\n",
        "2. Koefisien korelasi mendekati 1 atau -1, menunjukkan kuatnya hubungan antara dua variabel (menggambarkan korelasi positif atau negatif).\n",
        "\n",
        "3. Semakin mendekati 0 nilai koefisien korelasi, maka semakin kecil hubungan antara dua variabel tersebut.\n",
        "\n",
        "4. Semakin pekat warna merah pada persegi menunjukkan semakin kuat korelasi positif antara dua fitur.\n",
        "\n",
        "5. Semakin pekat warna biru pada persegi menunjukkan semakin kuat korelasi negatif antara dua fitur.\n",
        "\n",
        "6. Semakin terang warna biru, semakin menunjukkan korelasi yang lemah antara dua fitur.\n",
        "\n",
        "7. Berikut adalah daftar fitur yang memiliki hubungan kuat dengan fitur 'price' atau memiliki warna berupa oranye atau mendekati warna merah atau memiliki nilai korelasi lebih dari 0,5: bathrooms (0,53), sqft_living (0,7), grade (0,67), sqft_above (0,61), sqft_living15 (0,59)."
      ],
      "metadata": {
        "id": "cHNUba8mxEMV"
      }
    },
    {
      "cell_type": "markdown",
      "source": [
        "**Inisialisasi atribut dan target**\n",
        "\n",
        "Menginisialisasikan variabel X yang merupakan fitur-fitur untuk memprediksi harga suatu rumah, dan variabel y yang merupakan fitur target atau nilai yang akan diprediksi. Tidak mengikutsertakan fitur-fitur yang memiliki pengaruh/korelasi lemah dengan fitur 'price'."
      ],
      "metadata": {
        "id": "Z6kK2MVxxpu1"
      }
    },
    {
      "cell_type": "code",
      "source": [
        "X = house[['bathrooms', 'sqft_living', 'grade', 'sqft_above','sqft_living15']]\n",
        "y = house['price']"
      ],
      "metadata": {
        "id": "3qQqrAq7xTr1"
      },
      "execution_count": null,
      "outputs": []
    },
    {
      "cell_type": "markdown",
      "source": [
        "**Split Dataset**\n",
        "\n",
        "Split dataset menjadi data latih dan data uji sebelum transformasi. Hal ini ditujukan supaya transformasi diterapkan hanya pada data latih."
      ],
      "metadata": {
        "id": "BvNcTL5KxW9d"
      }
    },
    {
      "cell_type": "code",
      "source": [
        "X_train, X_test, y_train, y_test = train_test_split(X, y, test_size = 0.1, random_state=123)"
      ],
      "metadata": {
        "id": "eEbXip6FxVLw"
      },
      "execution_count": null,
      "outputs": []
    },
    {
      "cell_type": "markdown",
      "source": [
        "**Menampilkan total dataset secara keseluruhan, total dataset latih, total dataset uji.**"
      ],
      "metadata": {
        "id": "0f5T84g9xgrD"
      }
    },
    {
      "cell_type": "code",
      "source": [
        "print(f'Total # sampel di seluruh dataset: {len(X)}')\n",
        "print(f'Total # sampel di seluruh dataset: {len(X_train)}')\n",
        "print(f'Total # sampel di seluruh datasett: {len(X_test)}')"
      ],
      "metadata": {
        "id": "G1vUjGgYxfkV"
      },
      "execution_count": null,
      "outputs": []
    },
    {
      "cell_type": "markdown",
      "source": [
        "**Normalisasi Data dengan StandardScaler**\n",
        "\n",
        "Standarisasi fitur dengan cara mengurangi setiap nilai pada kumpulan data dengan nilai rata-rata, kemudian dibagi dengan deviasi standar. Standarisasi ditujukan supaya data tidak memiliki penyimpangan nilai yang besar."
      ],
      "metadata": {
        "id": "J0D3azEsx2Is"
      }
    },
    {
      "cell_type": "markdown",
      "source": [
        "**Standarisasi Data Latih**"
      ],
      "metadata": {
        "id": "eIzQaPtXa4bu"
      }
    },
    {
      "cell_type": "code",
      "source": [
        "numerical_features = ['bathrooms', 'sqft_living', 'grade', 'sqft_above','sqft_living15']\n",
        "scaler = StandardScaler()\n",
        "scaler.fit(X_train[numerical_features])\n",
        "X_train[numerical_features] = scaler.transform(X_train.loc[:, numerical_features])\n",
        "X_train[numerical_features].head()"
      ],
      "metadata": {
        "id": "5uIJg10hyMQk"
      },
      "execution_count": null,
      "outputs": []
    },
    {
      "cell_type": "code",
      "source": [
        "#cek nilai rata-rata (mean) dan standar deviasi (std) setelah di standarisasi\n",
        "X_train[numerical_features].describe().round(4)"
      ],
      "metadata": {
        "id": "ZZpR9U8ZyoYE"
      },
      "execution_count": null,
      "outputs": []
    },
    {
      "cell_type": "markdown",
      "source": [
        "Standarisasi mengubah nilai 'mean' menjadi 0 dan nilai 'std' menjadi 1"
      ],
      "metadata": {
        "id": "c06Wv5dzyqXd"
      }
    },
    {
      "cell_type": "markdown",
      "source": [
        "**Standarisasi Data Uji**"
      ],
      "metadata": {
        "id": "d0JfyZsx_kvl"
      }
    },
    {
      "cell_type": "code",
      "source": [
        "#Scaling data uji\n",
        "X_test.loc[:, numerical_features] = scaler.transform(X_test[numerical_features])"
      ],
      "metadata": {
        "id": "yjNOs13L6Ekf"
      },
      "execution_count": null,
      "outputs": []
    },
    {
      "cell_type": "markdown",
      "source": [
        "#Pengembangan Model"
      ],
      "metadata": {
        "id": "u9umPlZuysnX"
      }
    },
    {
      "cell_type": "markdown",
      "source": [
        "Pada tahap ini terdapat beberapa fungsi dengan penjelasan sebagai berikut:\n",
        "\n",
        "Fungsi fit() digunakan untuk melatih model. Parameter X_train merupakan data latih dengan atribut-atribut yang digunakan untuk prediksi. Sedangkan y_train adalah data latih dengan atribut target.\n",
        "\n",
        "Fungsi score() dengan parameter X_train, dan y_train digunakan untu mengukur keakuratan model terhadap data pelatihan."
      ],
      "metadata": {
        "id": "nQ4aArhcywT_"
      }
    },
    {
      "cell_type": "markdown",
      "source": [
        "**Decision Tree**"
      ],
      "metadata": {
        "id": "ViM7IcnMyzJ8"
      }
    },
    {
      "cell_type": "markdown",
      "source": [
        "random_state adalah *hyperparameter* untuk mengatur jumlah pohon pada algoritma yang bekerja."
      ],
      "metadata": {
        "id": "6x7q9EuRy1R6"
      }
    },
    {
      "cell_type": "code",
      "source": [
        "dtr = DecisionTreeRegressor(random_state=42)"
      ],
      "metadata": {
        "id": "vLSEeF46yq6_"
      },
      "execution_count": null,
      "outputs": []
    },
    {
      "cell_type": "code",
      "source": [
        "dtr.fit(X_train,y_train)\n",
        "score_dtr = dtr.score(X_train,y_train)\n",
        "print(score_dtr)"
      ],
      "metadata": {
        "id": "29I6L1X5y4Tw"
      },
      "execution_count": null,
      "outputs": []
    },
    {
      "cell_type": "markdown",
      "source": [
        "**Random Forest Regressor**"
      ],
      "metadata": {
        "id": "ub1P-VNqzBof"
      }
    },
    {
      "cell_type": "code",
      "source": [
        "rfr = RandomForestRegressor(n_estimators=500)"
      ],
      "metadata": {
        "id": "6qCwxwJyzBZS"
      },
      "execution_count": null,
      "outputs": []
    },
    {
      "cell_type": "code",
      "source": [
        "rfr.fit(X_train,y_train)\n",
        "score_rfr = rfr.score(X_train,y_train)\n",
        "print(score_rfr)"
      ],
      "metadata": {
        "id": "6h0yLoAszLJG"
      },
      "execution_count": null,
      "outputs": []
    },
    {
      "cell_type": "markdown",
      "source": [
        "**KNN**"
      ],
      "metadata": {
        "id": "UN9yRpYtzRwC"
      }
    },
    {
      "cell_type": "markdown",
      "source": [
        "n_neighbors adalah hyperparameter untuk menentukan jumlah tetangga terdekat untuk perhitungan algoritma KNN."
      ],
      "metadata": {
        "id": "h2mIt5iHzWdH"
      }
    },
    {
      "cell_type": "code",
      "source": [
        "knr = KNeighborsRegressor(n_neighbors = 2)"
      ],
      "metadata": {
        "id": "ItC9vrSzzYD7"
      },
      "execution_count": null,
      "outputs": []
    },
    {
      "cell_type": "code",
      "source": [
        "knr.fit(X_train,y_train)\n",
        "score_knr = knr.score(X_train,y_train)\n",
        "print(score_knr)"
      ],
      "metadata": {
        "id": "xyy6ds0bzY-a"
      },
      "execution_count": null,
      "outputs": []
    },
    {
      "cell_type": "markdown",
      "source": [
        "#EVALUASI MODEL"
      ],
      "metadata": {
        "id": "nEr0dxb-zeVy"
      }
    },
    {
      "cell_type": "markdown",
      "source": [
        "**Nilai RMSE untuk Masing-masing Model pada Proses Latihan Maupun Pengujian**"
      ],
      "metadata": {
        "id": "j97WOqY7z_xH"
      }
    },
    {
      "cell_type": "markdown",
      "source": [
        "*   Fungsi predict() digunakan untuk memprediksi hasil observasi data uji.\n",
        "*   Fungsi mean_squared_error digunakan untuk menghitung niai MSE atau Mean Squared Error suatu model.\n",
        "*   Fungsi mean_squared_error digunakan untuk menghitung niai MSE atau Mean Squared Error suatu model.\n",
        "\n",
        "\n",
        "\n"
      ],
      "metadata": {
        "id": "C_p0kNrkimMl"
      }
    },
    {
      "cell_type": "code",
      "source": [
        "rmse = pd.DataFrame(columns=['train', 'test'], index=['DTR','RFR','KNR'])\n",
        "model_dict = {'DTR': dtr, 'RFR': rfr, 'KNR': knr}\n",
        "for name, model in model_dict.items():\n",
        "    rmse.loc[name, 'train'] = np.sqrt(mean_squared_error(y_true=y_train, y_pred=model.predict(X_train))/1e3 )\n",
        "    rmse.loc[name, 'test'] = np.sqrt(mean_squared_error(y_true=y_test, y_pred=model.predict(X_test))/1e3)\n",
        "\n",
        "rmse"
      ],
      "metadata": {
        "id": "I5qHnqIhXUau"
      },
      "execution_count": null,
      "outputs": []
    },
    {
      "cell_type": "markdown",
      "source": [
        "**Memvisualisasikan Nilai RMSE untuk Masing-masing Model Pada Proses Latihan Maupun Pengujian**"
      ],
      "metadata": {
        "id": "XjkbETON0N42"
      }
    },
    {
      "cell_type": "code",
      "source": [
        "fig, ax = plt.subplots()\n",
        "rmse.sort_values(by='test', ascending=False).plot(kind='barh', ax=ax, zorder=3)\n",
        "ax.grid(zorder=0)"
      ],
      "metadata": {
        "id": "wPC2OesFwRng"
      },
      "execution_count": null,
      "outputs": []
    },
    {
      "cell_type": "markdown",
      "source": [
        "Dari hasil di atas, terlihat bahwa model RFR memiliki hasil yang paling baik dibandingkan DTR dan KNR. Hal ini ditunjukkan pada nilai error dari hasil uji RFR memiliki nilai terkecil, dan tidak mengalami overfitting sebagaimana model DTR."
      ],
      "metadata": {
        "id": "5h18H0rhbA8h"
      }
    },
    {
      "cell_type": "markdown",
      "source": [
        "**Uji model dengan data test**"
      ],
      "metadata": {
        "id": "3lPWAjre0v4P"
      }
    },
    {
      "cell_type": "code",
      "source": [
        "prediksi = X_test.iloc[:1].copy()\n",
        "pred_dict = {'y_true':y_test[:1]}\n",
        "for name, model in model_dict.items():\n",
        "    pred_dict['prediksi_'+name] = model.predict(prediksi).round(1)\n",
        "\n",
        "pd.DataFrame(pred_dict)"
      ],
      "metadata": {
        "id": "ZSGaH4SQVYdi"
      },
      "execution_count": null,
      "outputs": []
    },
    {
      "cell_type": "markdown",
      "source": [
        "Pada pengujian kali ini didapatkan hasil prediksi yang mendekati nilai sesungguhnya diperoleh oleh model KNR."
      ],
      "metadata": {
        "id": "Hpncev0r0xmz"
      }
    }
  ]
}