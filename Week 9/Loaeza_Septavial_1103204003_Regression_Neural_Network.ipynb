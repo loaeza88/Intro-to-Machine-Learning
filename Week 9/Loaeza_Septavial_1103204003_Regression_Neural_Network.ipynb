{
  "cells": [
    {
      "cell_type": "markdown",
      "metadata": {
        "id": "view-in-github"
      },
      "source": [
        "<a href=\"https://colab.research.google.com/github/TassyaRM/MachineLearning_TK-44-G4_/blob/main/Mgg9/Tassya_Regression_Neural_Network.ipynb\" target=\"_parent\"><img src=\"https://colab.research.google.com/assets/colab-badge.svg\" alt=\"Open In Colab\"/></a>"
      ]
    },
    {
      "cell_type": "markdown",
      "metadata": {
        "id": "3Zaz0d_HjA82"
      },
      "source": [
        "Loaeza Septavial 1103204003"
      ]
    },
    {
      "cell_type": "code",
      "execution_count": 1,
      "metadata": {
        "id": "S8j1PJIN2hPF"
      },
      "outputs": [],
      "source": [
        "# Import necessary libraries\n",
        "import tensorflow as tf\n",
        "from tensorflow import keras\n",
        "import numpy as np\n",
        "import matplotlib.pyplot as plt"
      ]
    },
    {
      "cell_type": "code",
      "execution_count": 2,
      "metadata": {
        "id": "tl5Uc8X4NJ_b"
      },
      "outputs": [],
      "source": [
        "# Generate some data for training\n",
        "x_train = np.random.rand(1000, 1) * 10 - 5  # Random values between -5 and 5\n",
        "y_train_regression = 2 * x_train + 2 + np.random.randn(1000, 1)  # Adding some random noise\n",
        "y_train_classification = (x_train > 0).astype(float)  # Binary classification based on x > 0"
      ]
    },
    {
      "cell_type": "code",
      "execution_count": 3,
      "metadata": {
        "id": "06rI4LpcNOn5"
      },
      "outputs": [],
      "source": [
        "# Build the neural network model for regression\n",
        "regression_model = keras.Sequential([\n",
        "    keras.layers.Dense(units=1, input_shape=[1])  # Single dense layer with one unit\n",
        "])"
      ]
    },
    {
      "cell_type": "code",
      "execution_count": 4,
      "metadata": {
        "colab": {
          "base_uri": "https://localhost:8080/"
        },
        "id": "nRiMC5OmNRa6",
        "outputId": "7e1a3a4a-07a2-49c7-8eaa-d83f5313945f"
      },
      "outputs": [
        {
          "data": {
            "text/plain": [
              "<keras.src.callbacks.History at 0x7c20c49ce380>"
            ]
          },
          "execution_count": 4,
          "metadata": {},
          "output_type": "execute_result"
        }
      ],
      "source": [
        "# Compile the regression model\n",
        "regression_model.compile(optimizer='adam', loss='mean_squared_error')\n",
        "\n",
        "# Train the regression model\n",
        "regression_model.fit(x_train, y_train_regression, epochs=100, verbose=0)"
      ]
    },
    {
      "cell_type": "code",
      "execution_count": 5,
      "metadata": {
        "colab": {
          "base_uri": "https://localhost:8080/"
        },
        "id": "SrLpniIFNT8p",
        "outputId": "efdf07d3-ed08-4028-8706-10963f0b1ee4"
      },
      "outputs": [
        {
          "data": {
            "text/plain": [
              "<keras.src.callbacks.History at 0x7c20aef076a0>"
            ]
          },
          "execution_count": 5,
          "metadata": {},
          "output_type": "execute_result"
        }
      ],
      "source": [
        "# Build the logistic regression model for classification\n",
        "classification_model = keras.Sequential([\n",
        "    keras.layers.Dense(units=1, activation='sigmoid', input_shape=[1])  # Single dense layer with sigmoid activation\n",
        "])\n",
        "\n",
        "# Compile the classification model\n",
        "classification_model.compile(optimizer='adam', loss='binary_crossentropy', metrics=['accuracy'])\n",
        "\n",
        "# Train the classification model\n",
        "classification_model.fit(x_train, y_train_classification, epochs=100, verbose=0)"
      ]
    },
    {
      "cell_type": "code",
      "execution_count": 6,
      "metadata": {
        "colab": {
          "base_uri": "https://localhost:8080/"
        },
        "id": "3pvzxZfcNWW6",
        "outputId": "3189843f-4795-4e73-b27f-69ca8d9414e2"
      },
      "outputs": [
        {
          "name": "stdout",
          "output_type": "stream",
          "text": [
            "1/1 [==============================] - 0s 62ms/step\n",
            "1/1 [==============================] - 0s 39ms/step\n"
          ]
        }
      ],
      "source": [
        "# Test both models on new data\n",
        "x_test = np.array([[1.0], [2.0], [3.0]])\n",
        "\n",
        "# Predictions for regression\n",
        "y_pred_regression = regression_model.predict(x_test)\n",
        "\n",
        "# Predictions for classification\n",
        "y_pred_classification = classification_model.predict(x_test)\n",
        "y_pred_classification = (y_pred_classification > 0.5).astype(float)  # Convert probabilities to binary values"
      ]
    },
    {
      "cell_type": "code",
      "execution_count": 7,
      "metadata": {
        "colab": {
          "base_uri": "https://localhost:8080/"
        },
        "id": "mt_FsoNaNYLC",
        "outputId": "2a6dd5a9-3b42-4836-dc10-41fd33edd1fc"
      },
      "outputs": [
        {
          "name": "stdout",
          "output_type": "stream",
          "text": [
            "Regression Predictions:\n",
            "Input: 1.0, Predicted Output: 3.837029457092285\n",
            "Input: 2.0, Predicted Output: 5.820338249206543\n",
            "Input: 3.0, Predicted Output: 7.803647518157959\n",
            "\n",
            "Classification Predictions:\n",
            "Input: 1.0, Predicted Class: 1.0\n",
            "Input: 2.0, Predicted Class: 1.0\n",
            "Input: 3.0, Predicted Class: 1.0\n"
          ]
        }
      ],
      "source": [
        "# Print the predictions for regression\n",
        "print(\"Regression Predictions:\")\n",
        "for i in range(len(x_test)):\n",
        "    print(f\"Input: {x_test[i][0]}, Predicted Output: {y_pred_regression[i][0]}\")\n",
        "\n",
        "# Print the predictions for classification\n",
        "print(\"\\nClassification Predictions:\")\n",
        "for i in range(len(x_test)):\n",
        "    print(f\"Input: {x_test[i][0]}, Predicted Class: {y_pred_classification[i][0]}\")"
      ]
    }
  ],
  "metadata": {
    "accelerator": "GPU",
    "colab": {
      "gpuType": "T4",
      "provenance": []
    },
    "kernelspec": {
      "display_name": "Python 3",
      "name": "python3"
    },
    "language_info": {
      "name": "python"
    }
  },
  "nbformat": 4,
  "nbformat_minor": 0
}
